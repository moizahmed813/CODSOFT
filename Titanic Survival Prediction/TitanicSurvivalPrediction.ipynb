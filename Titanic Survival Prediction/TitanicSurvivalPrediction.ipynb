{
  "nbformat": 4,
  "nbformat_minor": 0,
  "metadata": {
    "colab": {
      "provenance": [],
      "authorship_tag": "ABX9TyN78rQstTMmwngRVZKjNzvM",
      "include_colab_link": true
    },
    "kernelspec": {
      "name": "python3",
      "display_name": "Python 3"
    },
    "language_info": {
      "name": "python"
    }
  },
  "cells": [
    {
      "cell_type": "markdown",
      "metadata": {
        "id": "view-in-github",
        "colab_type": "text"
      },
      "source": [
        "<a href=\"https://colab.research.google.com/github/moizahmed813/CODSOFT/blob/main/Titanic%20Survival%20Prediction/TitanicSurvivalPrediction.ipynb\" target=\"_parent\"><img src=\"https://colab.research.google.com/assets/colab-badge.svg\" alt=\"Open In Colab\"/></a>"
      ]
    },
    {
      "cell_type": "code",
      "execution_count": null,
      "metadata": {
        "id": "NI558M1wI26a"
      },
      "outputs": [],
      "source": [
        "# Importing all necessary classes\n",
        "import pandas as pnd\n",
        "import seaborn as sbrn\n",
        "import numpy as nmp\n",
        "\n",
        "%matplotlib inline\n",
        "from matplotlib import pyplot as pplt\n",
        "from matplotlib import style\n",
        "\n",
        "from sklearn.preprocessing import LabelEncoder\n",
        "from sklearn.preprocessing import StandardScaler\n",
        "from sklearn.preprocessing import OneHotEncoder\n",
        "from sklearn.model_selection import train_test_split\n",
        "from sklearn.tree import DecisionTreeClassifier\n",
        "from sklearn.metrics import accuracy_score\n",
        "from sklearn.compose import ColumnTransformer"
      ]
    },
    {
      "cell_type": "code",
      "source": [
        "# Reading from the given dataset\n",
        "tested_df = pnd.read_csv(\"tested.csv\")"
      ],
      "metadata": {
        "id": "8TM0qZYBEpmU"
      },
      "execution_count": null,
      "outputs": []
    },
    {
      "cell_type": "code",
      "source": [
        "# Viewing information available in the dataset\n",
        "print(tested_df.info())"
      ],
      "metadata": {
        "colab": {
          "base_uri": "https://localhost:8080/"
        },
        "id": "Y0omn-CfKL6a",
        "outputId": "1bb558a1-5eb4-4a1f-ad33-09fd4e48b000"
      },
      "execution_count": null,
      "outputs": [
        {
          "output_type": "stream",
          "name": "stdout",
          "text": [
            "<class 'pandas.core.frame.DataFrame'>\n",
            "RangeIndex: 418 entries, 0 to 417\n",
            "Data columns (total 12 columns):\n",
            " #   Column       Non-Null Count  Dtype  \n",
            "---  ------       --------------  -----  \n",
            " 0   PassengerId  418 non-null    int64  \n",
            " 1   Survived     418 non-null    int64  \n",
            " 2   Pclass       418 non-null    int64  \n",
            " 3   Name         418 non-null    object \n",
            " 4   Sex          418 non-null    object \n",
            " 5   Age          332 non-null    float64\n",
            " 6   SibSp        418 non-null    int64  \n",
            " 7   Parch        418 non-null    int64  \n",
            " 8   Ticket       418 non-null    object \n",
            " 9   Fare         417 non-null    float64\n",
            " 10  Cabin        91 non-null     object \n",
            " 11  Embarked     418 non-null    object \n",
            "dtypes: float64(2), int64(5), object(5)\n",
            "memory usage: 39.3+ KB\n",
            "None\n"
          ]
        }
      ]
    },
    {
      "cell_type": "code",
      "source": [
        "# Viewing the description in the datasets to gain better insights.\n",
        "print(tested_df.describe())"
      ],
      "metadata": {
        "colab": {
          "base_uri": "https://localhost:8080/"
        },
        "id": "x1Cro92KL7uB",
        "outputId": "f4a8cf00-3a1c-470e-a576-ab50aeac9d43"
      },
      "execution_count": null,
      "outputs": [
        {
          "output_type": "stream",
          "name": "stdout",
          "text": [
            "       PassengerId    Survived      Pclass         Age       SibSp  \\\n",
            "count   418.000000  418.000000  418.000000  332.000000  418.000000   \n",
            "mean   1100.500000    0.363636    2.265550   30.272590    0.447368   \n",
            "std     120.810458    0.481622    0.841838   14.181209    0.896760   \n",
            "min     892.000000    0.000000    1.000000    0.170000    0.000000   \n",
            "25%     996.250000    0.000000    1.000000   21.000000    0.000000   \n",
            "50%    1100.500000    0.000000    3.000000   27.000000    0.000000   \n",
            "75%    1204.750000    1.000000    3.000000   39.000000    1.000000   \n",
            "max    1309.000000    1.000000    3.000000   76.000000    8.000000   \n",
            "\n",
            "            Parch        Fare  \n",
            "count  418.000000  417.000000  \n",
            "mean     0.392344   35.627188  \n",
            "std      0.981429   55.907576  \n",
            "min      0.000000    0.000000  \n",
            "25%      0.000000    7.895800  \n",
            "50%      0.000000   14.454200  \n",
            "75%      0.000000   31.500000  \n",
            "max      9.000000  512.329200  \n"
          ]
        }
      ]
    },
    {
      "cell_type": "code",
      "source": [
        "print(tested_df.head(10))"
      ],
      "metadata": {
        "id": "7pgDEhvQMuMF"
      },
      "execution_count": null,
      "outputs": []
    },
    {
      "cell_type": "code",
      "source": [
        "# Finding NaN (Not a Number) values in the dataframe\n",
        "missing_data = tested_df.isnull()\n",
        "missing_count = tested_df.isnull().sum()\n",
        "missing_percentage = (tested_df.isnull().sum() / len(tested_df)) * 100\n",
        "missing_info = pnd.DataFrame({\n",
        "    \"Missing Count\": missing_count,\n",
        "    \"Missing Percentage\": missing_percentage\n",
        "})\n",
        "print(missing_info)\n"
      ],
      "metadata": {
        "colab": {
          "base_uri": "https://localhost:8080/"
        },
        "id": "zWchh_7PWrky",
        "outputId": "120d41e7-bf7b-4fa0-c426-b2efdce6de3d"
      },
      "execution_count": null,
      "outputs": [
        {
          "output_type": "stream",
          "name": "stdout",
          "text": [
            "             Missing Count  Missing Percentage\n",
            "PassengerId              0            0.000000\n",
            "Survived                 0            0.000000\n",
            "Pclass                   0            0.000000\n",
            "Name                     0            0.000000\n",
            "Sex                      0            0.000000\n",
            "Age                     86           20.574163\n",
            "SibSp                    0            0.000000\n",
            "Parch                    0            0.000000\n",
            "Ticket                   0            0.000000\n",
            "Fare                     1            0.239234\n",
            "Cabin                  327           78.229665\n",
            "Embarked                 0            0.000000\n"
          ]
        }
      ]
    },
    {
      "cell_type": "code",
      "source": [
        "df = pnd.read_csv(\"tested.csv\")\n",
        "\n",
        "# Filtering data for men who did not survived and women who survived\n",
        "survived_men_data = df[(df['Sex'] == 'male') & (df['Survived'] == 0)]\n",
        "survived_women_data = df[(df['Sex'] == 'female') & (df['Survived'] == 1)]\n",
        "\n",
        "# Creating a survival plot for not survived men\n",
        "pplt.figure(figsize=(4,3))\n",
        "sbrn.histplot(data=survived_men_data, x='Age', bins=10, color='red', alpha=0.6, kde=True)\n",
        "pplt.title('Survival Distribution for Men (Not Survived)')\n",
        "pplt.xlabel('Age')\n",
        "pplt.ylabel('No. of Passengers')\n",
        "pplt.show()\n",
        "\n",
        "# Creating a survival plot for survived women\n",
        "pplt.figure(figsize=(4,3))\n",
        "sbrn.histplot(data=survived_women_data, x='Age', bins=10, color='green', alpha=0.6, kde=True)\n",
        "pplt.title('Survival Distribution for Women (Survived)')\n",
        "pplt.xlabel('Age')\n",
        "pplt.ylabel('No. of Passengers')\n",
        "pplt.show()\n"
      ],
      "metadata": {
        "colab": {
          "base_uri": "https://localhost:8080/",
          "height": 649
        },
        "id": "9xemqA-FZKH5",
        "outputId": "c35719bc-d186-4b4b-bc3c-4916244e5c92"
      },
      "execution_count": null,
      "outputs": [
        {
          "output_type": "display_data",
          "data": {
            "text/plain": [
              "<Figure size 400x300 with 1 Axes>"
            ],
            "image/png": "[encoded data removed]"
          },
          "metadata": {}
        },
        {
          "output_type": "display_data",
          "data": {
            "text/plain": [
              "<Figure size 400x300 with 1 Axes>"
            ],
            "image/png": "[encoded data removed]"
          },
          "metadata": {}
        }
      ]
    },
    {
      "cell_type": "code",
      "source": [
        "# We will first group the data by \"Embarked\" and \"Survived\", then calculate the count of survivors and non-survivors for each port, and then normalize the data to obtain survival rates.\n",
        "df = pnd.read_csv(\"tested.csv\")\n",
        "grouped_data = df.groupby(['Embarked', 'Survived']).size().unstack()\n",
        "\n",
        "# Normalizing the data to get survival rates\n",
        "grouped_data_normalized = grouped_data.div(grouped_data.sum(axis=1), axis=0)\n",
        "\n",
        "# Creating a stacked bar plot for Embarked and Survival\n",
        "pplt.figure(figsize=(4, 3))\n",
        "grouped_data_normalized.plot(kind='bar', stacked=True, colormap='Set2')\n",
        "pplt.title('Survival Distribution by Embarked')\n",
        "pplt.xlabel('Embarked')\n",
        "pplt.ylabel('Survival Rate')\n",
        "pplt.legend(title='Survived', labels=['No', 'Yes'])\n",
        "pplt.show()"
      ],
      "metadata": {
        "colab": {
          "base_uri": "https://localhost:8080/",
          "height": 486
        },
        "id": "lC6B-_ZBGV9k",
        "outputId": "c28bccbd-b378-40b5-ca90-4b645d912cb2"
      },
      "execution_count": null,
      "outputs": [
        {
          "output_type": "display_data",
          "data": {
            "text/plain": [
              "<Figure size 400x300 with 0 Axes>"
            ]
          },
          "metadata": {}
        },
        {
          "output_type": "display_data",
          "data": {
            "text/plain": [
              "<Figure size 640x480 with 1 Axes>"
            ],
            "image/png": "[encoded data removed]"
          },
          "metadata": {}
        }
      ]
    },
    {
      "cell_type": "code",
      "source": [
        "# Creating a Line plot to represent survival rate with respect to PClass\n",
        "pplt.figure(figsize=(4, 3))\n",
        "sbrn.lineplot(x='Pclass', y='Survived', data=tested_df)"
      ],
      "metadata": {
        "colab": {
          "base_uri": "https://localhost:8080/",
          "height": 328
        },
        "id": "_U5d1XcaIUPN",
        "outputId": "59f4e6a9-281a-4aa2-f028-516e52c96ba8"
      },
      "execution_count": null,
      "outputs": [
        {
          "output_type": "execute_result",
          "data": {
            "text/plain": [
              "<Axes: xlabel='Pclass', ylabel='Survived'>"
            ]
          },
          "metadata": {},
          "execution_count": 9
        },
        {
          "output_type": "display_data",
          "data": {
            "text/plain": [
              "<Figure size 400x300 with 1 Axes>"
            ],
            "image/png": "[encoded data removed]"
          },
          "metadata": {}
        }
      ]
    },
    {
      "cell_type": "code",
      "source": [
        "# Finding whether someone on the ship is alone or is with relatives\n",
        "df['FamilySize'] = df['SibSp'] + df['Parch'] + 1\n",
        "df['TravelStatus'] = df['FamilySize'].apply(lambda size: 'Alone' if size == 1 else 'With Relatives')\n",
        "print(df[['SibSp', 'Parch', 'FamilySize', 'TravelStatus']])\n"
      ],
      "metadata": {
        "colab": {
          "base_uri": "https://localhost:8080/"
        },
        "id": "KADPnQgGKaCQ",
        "outputId": "efb34a1c-6fc8-41ae-9c7a-84a2183ec389"
      },
      "execution_count": null,
      "outputs": [
        {
          "output_type": "stream",
          "name": "stdout",
          "text": [
            "     SibSp  Parch  FamilySize    TravelStatus\n",
            "0        0      0           1           Alone\n",
            "1        1      0           2  With Relatives\n",
            "2        0      0           1           Alone\n",
            "3        0      0           1           Alone\n",
            "4        1      1           3  With Relatives\n",
            "..     ...    ...         ...             ...\n",
            "413      0      0           1           Alone\n",
            "414      0      0           1           Alone\n",
            "415      0      0           1           Alone\n",
            "416      0      0           1           Alone\n",
            "417      1      1           3  With Relatives\n",
            "\n",
            "[418 rows x 4 columns]\n"
          ]
        }
      ]
    },
    {
      "cell_type": "code",
      "source": [
        "# Generating random ages to fill the missing values\n",
        "missing_age_indices = df[df['Age'].isnull()].index\n",
        "for index in missing_age_indices:\n",
        "    random_age = nmp.random.uniform(df['Age'].min(), df['Age'].max())\n",
        "    df.loc[index, 'Age'] = random_age\n",
        "print(df.head())"
      ],
      "metadata": {
        "id": "QpzZ6gg6Lrdv",
        "colab": {
          "base_uri": "https://localhost:8080/"
        },
        "outputId": "b0e30fdd-218d-48cd-d225-a6b5afd98a91"
      },
      "execution_count": null,
      "outputs": [
        {
          "output_type": "stream",
          "name": "stdout",
          "text": [
            "   PassengerId  Survived  Pclass  \\\n",
            "0          892         0       3   \n",
            "1          893         1       3   \n",
            "2          894         0       2   \n",
            "3          895         0       3   \n",
            "4          896         1       3   \n",
            "\n",
            "                                           Name     Sex   Age  SibSp  Parch  \\\n",
            "0                              Kelly, Mr. James    male  34.5      0      0   \n",
            "1              Wilkes, Mrs. James (Ellen Needs)  female  47.0      1      0   \n",
            "2                     Myles, Mr. Thomas Francis    male  62.0      0      0   \n",
            "3                              Wirz, Mr. Albert    male  27.0      0      0   \n",
            "4  Hirvonen, Mrs. Alexander (Helga E Lindqvist)  female  22.0      1      1   \n",
            "\n",
            "    Ticket     Fare Cabin Embarked  FamilySize    TravelStatus  \n",
            "0   330911   7.8292   NaN        Q           1           Alone  \n",
            "1   363272   7.0000   NaN        S           2  With Relatives  \n",
            "2   240276   9.6875   NaN        Q           1           Alone  \n",
            "3   315154   8.6625   NaN        S           1           Alone  \n",
            "4  3101298  12.2875   NaN        S           3  With Relatives  \n"
          ]
        }
      ]
    },
    {
      "cell_type": "code",
      "source": [
        "# Filling missing value in Fare\n",
        "tested_df['Fare'].describe()\n",
        "value = '17.152'\n",
        "data = [tested_df]\n",
        "\n",
        "for dataset in data:\n",
        "    dataset['Fare'] = dataset['Fare'].fillna(value)\n",
        "print(df.head(155))"
      ],
      "metadata": {
        "id": "pdXnzDi6OyUJ"
      },
      "execution_count": null,
      "outputs": []
    },
    {
      "cell_type": "code",
      "source": [
        "# Dropping columns having unique values because they are tricky to convert.\n",
        "unique_column = df.columns[df.nunique() == df.shape[0]]\n",
        "df = df.drop(columns=unique_column)\n",
        "print(df.head())\n"
      ],
      "metadata": {
        "id": "ikKbquj1A0l2"
      },
      "execution_count": null,
      "outputs": []
    },
    {
      "cell_type": "code",
      "source": [
        "# Filling Cabin column\n",
        "\n",
        "# Extracting the deck information from the Cabin column (assuming the deck is the first letter)\n",
        "df['Deck'] = df['Cabin'].str.extract(r'([A-G])', expand=False)\n",
        "df['Cabin'] = df['Cabin'].fillna(0)\n",
        "\n",
        "# Converting deck letters to numeric values\n",
        "deck_mapping = {'A': 1, 'B': 2, 'C': 3, 'D': 4, 'E': 5, 'F': 6, 'G': 7}\n",
        "df['Deck'] = df['Deck'].map(deck_mapping)\n",
        "\n",
        "# Filling missing deck values with zero\n",
        "df['Deck'] = df['Deck'].fillna(0).astype(int)\n",
        "\n",
        "# Displaying the updated dataframe\n",
        "print(df.head())"
      ],
      "metadata": {
        "id": "GZh4_4_yJC1g"
      },
      "execution_count": null,
      "outputs": []
    },
    {
      "cell_type": "code",
      "source": [
        "# Checking if 'Name' column exists before dropping\n",
        "if 'Name' in df.columns:\n",
        "    df.drop(columns=['Name'], inplace=True)\n",
        "\n",
        "# Displaying the updated dataframe\n",
        "print(df.head())\n"
      ],
      "metadata": {
        "id": "WwDcx2g4Lf8M"
      },
      "execution_count": null,
      "outputs": []
    },
    {
      "cell_type": "code",
      "source": [
        "# Performing conversion of features to numerics\n",
        "\n",
        "# Converting \"Sex\" column to numerics\n",
        "df['Sex'] = df['Sex'].replace({'male': 1, 'female': 0})\n",
        "\n",
        "# Creating a mapping for \"Embarked\" values to numerics\n",
        "embarked_mapping = {'C': 0, 'S': 1, 'Q': 2}\n",
        "df['Embarked'] = df['Embarked'].replace(embarked_mapping)\n",
        "\n",
        "# Creating a mapping for \"TravelStatus\" values to numerics\n",
        "travel_status_mapping = {'With Relatives': 1, 'Alone': 0}\n",
        "df['TravelStatus'] = df['TravelStatus'].replace(travel_status_mapping)\n",
        "\n",
        "# Converting \"Fare\" column from float to int and deal with NaN values\n",
        "df['Fare'] = df['Fare'].fillna(0).astype(int)\n",
        "\n",
        "# Converting \"Age\" column from float to int.\n",
        "df['Age'] = df['Age'].fillna(0).astype(int)\n",
        "df.head()"
      ],
      "metadata": {
        "id": "2jMMTZqLMtC8"
      },
      "execution_count": null,
      "outputs": []
    },
    {
      "cell_type": "code",
      "source": [
        "# Checking if 'Ticket' column exists before dropping\n",
        "if 'Ticket' in df.columns:\n",
        "    df.drop(columns=['Ticket'], inplace=True)\n",
        "\n",
        "# Checking if 'Cabin' column exists before dropping\n",
        "if 'Cabin' in df.columns:\n",
        "    df.drop(columns=['Cabin'], inplace=True)\n",
        "df.head()\n"
      ],
      "metadata": {
        "colab": {
          "base_uri": "https://localhost:8080/",
          "height": 206
        },
        "id": "APSkx6vpPSWX",
        "outputId": "49325cc3-dc3b-4437-ab2d-1a6ffcfae98a"
      },
      "execution_count": null,
      "outputs": [
        {
          "output_type": "execute_result",
          "data": {
            "text/plain": [
              "   PassengerId  Survived  Pclass  Sex  Age  SibSp  Parch  Fare  Embarked  \\\n",
              "0          892         0       3    1   34      0      0     7         2   \n",
              "1          893         1       3    0   47      1      0     7         1   \n",
              "2          894         0       2    1   62      0      0     9         2   \n",
              "3          895         0       3    1   27      0      0     8         1   \n",
              "4          896         1       3    0   22      1      1    12         1   \n",
              "\n",
              "   FamilySize  TravelStatus  Deck  \n",
              "0           1             0     0  \n",
              "1           2             1     0  \n",
              "2           1             0     0  \n",
              "3           1             0     0  \n",
              "4           3             1     0  "
            ],
            "text/html": [
              "\n",
              "  <div id=\"df-3673813c-cda0-4c1d-8f0d-1d689c6e322b\" class=\"colab-df-container\">\n",
              "    <div>\n",
              "<style scoped>\n",
              "    .dataframe tbody tr th:only-of-type {\n",
              "        vertical-align: middle;\n",
              "    }\n",
              "\n",
              "    .dataframe tbody tr th {\n",
              "        vertical-align: top;\n",
              "    }\n",
              "\n",
              "    .dataframe thead th {\n",
              "        text-align: right;\n",
              "    }\n",
              "</style>\n",
              "<table border=\"1\" class=\"dataframe\">\n",
              "  <thead>\n",
              "    <tr style=\"text-align: right;\">\n",
              "      <th></th>\n",
              "      <th>PassengerId</th>\n",
              "      <th>Survived</th>\n",
              "      <th>Pclass</th>\n",
              "      <th>Sex</th>\n",
              "      <th>Age</th>\n",
              "      <th>SibSp</th>\n",
              "      <th>Parch</th>\n",
              "      <th>Fare</th>\n",
              "      <th>Embarked</th>\n",
              "      <th>FamilySize</th>\n",
              "      <th>TravelStatus</th>\n",
              "      <th>Deck</th>\n",
              "    </tr>\n",
              "  </thead>\n",
              "  <tbody>\n",
              "    <tr>\n",
              "      <th>0</th>\n",
              "      <td>892</td>\n",
              "      <td>0</td>\n",
              "      <td>3</td>\n",
              "      <td>1</td>\n",
              "      <td>34</td>\n",
              "      <td>0</td>\n",
              "      <td>0</td>\n",
              "      <td>7</td>\n",
              "      <td>2</td>\n",
              "      <td>1</td>\n",
              "      <td>0</td>\n",
              "      <td>0</td>\n",
              "    </tr>\n",
              "    <tr>\n",
              "      <th>1</th>\n",
              "      <td>893</td>\n",
              "      <td>1</td>\n",
              "      <td>3</td>\n",
              "      <td>0</td>\n",
              "      <td>47</td>\n",
              "      <td>1</td>\n",
              "      <td>0</td>\n",
              "      <td>7</td>\n",
              "      <td>1</td>\n",
              "      <td>2</td>\n",
              "      <td>1</td>\n",
              "      <td>0</td>\n",
              "    </tr>\n",
              "    <tr>\n",
              "      <th>2</th>\n",
              "      <td>894</td>\n",
              "      <td>0</td>\n",
              "      <td>2</td>\n",
              "      <td>1</td>\n",
              "      <td>62</td>\n",
              "      <td>0</td>\n",
              "      <td>0</td>\n",
              "      <td>9</td>\n",
              "      <td>2</td>\n",
              "      <td>1</td>\n",
              "      <td>0</td>\n",
              "      <td>0</td>\n",
              "    </tr>\n",
              "    <tr>\n",
              "      <th>3</th>\n",
              "      <td>895</td>\n",
              "      <td>0</td>\n",
              "      <td>3</td>\n",
              "      <td>1</td>\n",
              "      <td>27</td>\n",
              "      <td>0</td>\n",
              "      <td>0</td>\n",
              "      <td>8</td>\n",
              "      <td>1</td>\n",
              "      <td>1</td>\n",
              "      <td>0</td>\n",
              "      <td>0</td>\n",
              "    </tr>\n",
              "    <tr>\n",
              "      <th>4</th>\n",
              "      <td>896</td>\n",
              "      <td>1</td>\n",
              "      <td>3</td>\n",
              "      <td>0</td>\n",
              "      <td>22</td>\n",
              "      <td>1</td>\n",
              "      <td>1</td>\n",
              "      <td>12</td>\n",
              "      <td>1</td>\n",
              "      <td>3</td>\n",
              "      <td>1</td>\n",
              "      <td>0</td>\n",
              "    </tr>\n",
              "  </tbody>\n",
              "</table>\n",
              "</div>\n",
              "    <div class=\"colab-df-buttons\">\n",
              "\n",
              "  <div class=\"colab-df-container\">\n",
              "    <button class=\"colab-df-convert\" onclick=\"convertToInteractive('df-3673813c-cda0-4c1d-8f0d-1d689c6e322b')\"\n",
              "            title=\"Convert this dataframe to an interactive table.\"\n",
              "            style=\"display:none;\">\n",
              "\n",
              "  <svg xmlns=\"http://www.w3.org/2000/svg\" height=\"24px\" viewBox=\"0 -960 960 960\">\n",
              "    <path d=\"M120-120v-720h720v720H120Zm60-500h600v-160H180v160Zm220 220h160v-160H400v160Zm0 220h160v-160H400v160ZM180-400h160v-160H180v160Zm440 0h160v-160H620v160ZM180-180h160v-160H180v160Zm440 0h160v-160H620v160Z\"/>\n",
              "  </svg>\n",
              "    </button>\n",
              "\n",
              "  <style>\n",
              "    .colab-df-container {\n",
              "      display:flex;\n",
              "      gap: 12px;\n",
              "    }\n",
              "\n",
              "    .colab-df-convert {\n",
              "      background-color: #E8F0FE;\n",
              "      border: none;\n",
              "      border-radius: 50%;\n",
              "      cursor: pointer;\n",
              "      display: none;\n",
              "      fill: #1967D2;\n",
              "      height: 32px;\n",
              "      padding: 0 0 0 0;\n",
              "      width: 32px;\n",
              "    }\n",
              "\n",
              "    .colab-df-convert:hover {\n",
              "      background-color: #E2EBFA;\n",
              "      box-shadow: 0px 1px 2px rgba(60, 64, 67, 0.3), 0px 1px 3px 1px rgba(60, 64, 67, 0.15);\n",
              "      fill: #174EA6;\n",
              "    }\n",
              "\n",
              "    .colab-df-buttons div {\n",
              "      margin-bottom: 4px;\n",
              "    }\n",
              "\n",
              "    [theme=dark] .colab-df-convert {\n",
              "      background-color: #3B4455;\n",
              "      fill: #D2E3FC;\n",
              "    }\n",
              "\n",
              "    [theme=dark] .colab-df-convert:hover {\n",
              "      background-color: #434B5C;\n",
              "      box-shadow: 0px 1px 3px 1px rgba(0, 0, 0, 0.15);\n",
              "      filter: drop-shadow(0px 1px 2px rgba(0, 0, 0, 0.3));\n",
              "      fill: #FFFFFF;\n",
              "    }\n",
              "  </style>\n",
              "\n",
              "    <script>\n",
              "      const buttonEl =\n",
              "        document.querySelector('#df-3673813c-cda0-4c1d-8f0d-1d689c6e322b button.colab-df-convert');\n",
              "      buttonEl.style.display =\n",
              "        google.colab.kernel.accessAllowed ? 'block' : 'none';\n",
              "\n",
              "      async function convertToInteractive(key) {\n",
              "        const element = document.querySelector('#df-3673813c-cda0-4c1d-8f0d-1d689c6e322b');\n",
              "        const dataTable =\n",
              "          await google.colab.kernel.invokeFunction('convertToInteractive',\n",
              "                                                    [key], {});\n",
              "        if (!dataTable) return;\n",
              "\n",
              "        const docLinkHtml = 'Like what you see? Visit the ' +\n",
              "          '<a target=\"_blank\" href=https://colab.research.google.com/notebooks/data_table.ipynb>data table notebook</a>'\n",
              "          + ' to learn more about interactive tables.';\n",
              "        element.innerHTML = '';\n",
              "        dataTable['output_type'] = 'display_data';\n",
              "        await google.colab.output.renderOutput(dataTable, element);\n",
              "        const docLink = document.createElement('div');\n",
              "        docLink.innerHTML = docLinkHtml;\n",
              "        element.appendChild(docLink);\n",
              "      }\n",
              "    </script>\n",
              "  </div>\n",
              "\n",
              "\n",
              "<div id=\"df-89b012a0-e96f-4dbf-934f-272bc347ade1\">\n",
              "  <button class=\"colab-df-quickchart\" onclick=\"quickchart('df-89b012a0-e96f-4dbf-934f-272bc347ade1')\"\n",
              "            title=\"Suggest charts.\"\n",
              "            style=\"display:none;\">\n",
              "\n",
              "<svg xmlns=\"http://www.w3.org/2000/svg\" height=\"24px\"viewBox=\"0 0 24 24\"\n",
              "     width=\"24px\">\n",
              "    <g>\n",
              "        <path d=\"M19 3H5c-1.1 0-2 .9-2 2v14c0 1.1.9 2 2 2h14c1.1 0 2-.9 2-2V5c0-1.1-.9-2-2-2zM9 17H7v-7h2v7zm4 0h-2V7h2v10zm4 0h-2v-4h2v4z\"/>\n",
              "    </g>\n",
              "</svg>\n",
              "  </button>\n",
              "\n",
              "<style>\n",
              "  .colab-df-quickchart {\n",
              "    background-color: #E8F0FE;\n",
              "    border: none;\n",
              "    border-radius: 50%;\n",
              "    cursor: pointer;\n",
              "    display: none;\n",
              "    fill: #1967D2;\n",
              "    height: 32px;\n",
              "    padding: 0 0 0 0;\n",
              "    width: 32px;\n",
              "  }\n",
              "\n",
              "  .colab-df-quickchart:hover {\n",
              "    background-color: #E2EBFA;\n",
              "    box-shadow: 0px 1px 2px rgba(60, 64, 67, 0.3), 0px 1px 3px 1px rgba(60, 64, 67, 0.15);\n",
              "    fill: #174EA6;\n",
              "  }\n",
              "\n",
              "  [theme=dark] .colab-df-quickchart {\n",
              "    background-color: #3B4455;\n",
              "    fill: #D2E3FC;\n",
              "  }\n",
              "\n",
              "  [theme=dark] .colab-df-quickchart:hover {\n",
              "    background-color: #434B5C;\n",
              "    box-shadow: 0px 1px 3px 1px rgba(0, 0, 0, 0.15);\n",
              "    filter: drop-shadow(0px 1px 2px rgba(0, 0, 0, 0.3));\n",
              "    fill: #FFFFFF;\n",
              "  }\n",
              "</style>\n",
              "\n",
              "  <script>\n",
              "    async function quickchart(key) {\n",
              "      const charts = await google.colab.kernel.invokeFunction(\n",
              "          'suggestCharts', [key], {});\n",
              "    }\n",
              "    (() => {\n",
              "      let quickchartButtonEl =\n",
              "        document.querySelector('#df-89b012a0-e96f-4dbf-934f-272bc347ade1 button');\n",
              "      quickchartButtonEl.style.display =\n",
              "        google.colab.kernel.accessAllowed ? 'block' : 'none';\n",
              "    })();\n",
              "  </script>\n",
              "</div>\n",
              "    </div>\n",
              "  </div>\n"
            ]
          },
          "metadata": {},
          "execution_count": 16
        }
      ]
    },
    {
      "cell_type": "code",
      "source": [
        "# Using machine learning model i.e. Decision Tree for survival prediction\n",
        "features = ['Sex', 'Age', 'Fare', 'Pclass']\n",
        "X = df[features]\n",
        "y = df['Survived']\n",
        "\n",
        "# Splitting the data into training and testing sets\n",
        "X_train, X_test, y_train, y_test = train_test_split(X, y, test_size=0.2, random_state=42)\n",
        "clf = DecisionTreeClassifier(random_state=42)\n",
        "clf.fit(X_train, y_train)\n",
        "y_prediction = clf.predict(X_test)\n",
        "accuracy = accuracy_score(y_test, y_prediction)\n",
        "print(\"Accuracy:\", accuracy)\n",
        "\n",
        "# Visualize the accuracy using a pie chart\n",
        "labels = ['Correct Predictions', 'Incorrect Predictions']\n",
        "sizes = [accuracy, 1 - accuracy]\n",
        "colors = ['blue', 'red']\n",
        "explode = (0.1, 0)\n",
        "pplt.figure(figsize=(4, 3))\n",
        "pplt.pie(sizes, explode=explode, labels=labels, colors=colors, autopct='%1.1f%%', shadow=True, startangle=140)\n",
        "pplt.axis('equal')  # Equal aspect ratio ensures that pie is drawn as a circle.\n",
        "pplt.title('Decision Tree Model Accuracy')\n",
        "pplt.show()\n"
      ],
      "metadata": {
        "colab": {
          "base_uri": "https://localhost:8080/",
          "height": 307
        },
        "id": "uzXelJMvVYyE",
        "outputId": "d0a1d684-4751-4429-a122-e8d570945d69"
      },
      "execution_count": null,
      "outputs": [
        {
          "output_type": "stream",
          "name": "stdout",
          "text": [
            "Accuracy: 1.0\n"
          ]
        },
        {
          "output_type": "display_data",
          "data": {
            "text/plain": [
              "<Figure size 400x300 with 1 Axes>"
            ],
            "image/png": "[encoded data removed]"
          },
          "metadata": {}
        }
      ]
    }
  ]
}